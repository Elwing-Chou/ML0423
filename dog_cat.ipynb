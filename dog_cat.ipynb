{
  "nbformat": 4,
  "nbformat_minor": 0,
  "metadata": {
    "colab": {
      "name": "dog_cat.ipynb",
      "provenance": []
    },
    "kernelspec": {
      "name": "python3",
      "display_name": "Python 3"
    },
    "accelerator": "GPU"
  },
  "cells": [
    {
      "cell_type": "code",
      "metadata": {
        "id": "8L9DF4PVv3pF",
        "colab_type": "code",
        "colab": {}
      },
      "source": [
        "import zipfile\n",
        "f = zipfile.ZipFile(\"drive/My Drive/additional/train.zip\")\n",
        "f.extractall(\"./datasets\")"
      ],
      "execution_count": 0,
      "outputs": []
    },
    {
      "cell_type": "code",
      "metadata": {
        "id": "MBng3Q91x_5E",
        "colab_type": "code",
        "colab": {
          "base_uri": "https://localhost:8080/",
          "height": 402
        },
        "outputId": "6b515e1c-4faf-401e-d143-f7cbc4ba059d"
      },
      "source": [
        "import glob\n",
        "import pandas as pd\n",
        "catfs = glob.glob(\"datasets/train/cat.*.[jJ][pP][gG]\")\n",
        "catans = [0] * len(catfs)\n",
        "dogfs = glob.glob(\"datasets/train/dog.*.[jJ][pP][gG]\")\n",
        "dogans = [1] * len(dogfs)\n",
        "df = pd.DataFrame({\n",
        "    \"path\":catfs + dogfs,\n",
        "    \"target\":catans + dogans\n",
        "})\n",
        "df"
      ],
      "execution_count": 5,
      "outputs": [
        {
          "output_type": "execute_result",
          "data": {
            "text/html": [
              "<div>\n",
              "<style scoped>\n",
              "    .dataframe tbody tr th:only-of-type {\n",
              "        vertical-align: middle;\n",
              "    }\n",
              "\n",
              "    .dataframe tbody tr th {\n",
              "        vertical-align: top;\n",
              "    }\n",
              "\n",
              "    .dataframe thead th {\n",
              "        text-align: right;\n",
              "    }\n",
              "</style>\n",
              "<table border=\"1\" class=\"dataframe\">\n",
              "  <thead>\n",
              "    <tr style=\"text-align: right;\">\n",
              "      <th></th>\n",
              "      <th>path</th>\n",
              "      <th>target</th>\n",
              "    </tr>\n",
              "  </thead>\n",
              "  <tbody>\n",
              "    <tr>\n",
              "      <th>0</th>\n",
              "      <td>datasets/train/cat.4115.jpg</td>\n",
              "      <td>0</td>\n",
              "    </tr>\n",
              "    <tr>\n",
              "      <th>1</th>\n",
              "      <td>datasets/train/cat.11655.jpg</td>\n",
              "      <td>0</td>\n",
              "    </tr>\n",
              "    <tr>\n",
              "      <th>2</th>\n",
              "      <td>datasets/train/cat.6859.jpg</td>\n",
              "      <td>0</td>\n",
              "    </tr>\n",
              "    <tr>\n",
              "      <th>3</th>\n",
              "      <td>datasets/train/cat.3702.jpg</td>\n",
              "      <td>0</td>\n",
              "    </tr>\n",
              "    <tr>\n",
              "      <th>4</th>\n",
              "      <td>datasets/train/cat.5833.jpg</td>\n",
              "      <td>0</td>\n",
              "    </tr>\n",
              "    <tr>\n",
              "      <th>...</th>\n",
              "      <td>...</td>\n",
              "      <td>...</td>\n",
              "    </tr>\n",
              "    <tr>\n",
              "      <th>24995</th>\n",
              "      <td>datasets/train/dog.6919.jpg</td>\n",
              "      <td>1</td>\n",
              "    </tr>\n",
              "    <tr>\n",
              "      <th>24996</th>\n",
              "      <td>datasets/train/dog.12397.jpg</td>\n",
              "      <td>1</td>\n",
              "    </tr>\n",
              "    <tr>\n",
              "      <th>24997</th>\n",
              "      <td>datasets/train/dog.565.jpg</td>\n",
              "      <td>1</td>\n",
              "    </tr>\n",
              "    <tr>\n",
              "      <th>24998</th>\n",
              "      <td>datasets/train/dog.276.jpg</td>\n",
              "      <td>1</td>\n",
              "    </tr>\n",
              "    <tr>\n",
              "      <th>24999</th>\n",
              "      <td>datasets/train/dog.10588.jpg</td>\n",
              "      <td>1</td>\n",
              "    </tr>\n",
              "  </tbody>\n",
              "</table>\n",
              "<p>25000 rows × 2 columns</p>\n",
              "</div>"
            ],
            "text/plain": [
              "                               path  target\n",
              "0       datasets/train/cat.4115.jpg       0\n",
              "1      datasets/train/cat.11655.jpg       0\n",
              "2       datasets/train/cat.6859.jpg       0\n",
              "3       datasets/train/cat.3702.jpg       0\n",
              "4       datasets/train/cat.5833.jpg       0\n",
              "...                             ...     ...\n",
              "24995   datasets/train/dog.6919.jpg       1\n",
              "24996  datasets/train/dog.12397.jpg       1\n",
              "24997    datasets/train/dog.565.jpg       1\n",
              "24998    datasets/train/dog.276.jpg       1\n",
              "24999  datasets/train/dog.10588.jpg       1\n",
              "\n",
              "[25000 rows x 2 columns]"
            ]
          },
          "metadata": {
            "tags": []
          },
          "execution_count": 5
        }
      ]
    }
  ]
}