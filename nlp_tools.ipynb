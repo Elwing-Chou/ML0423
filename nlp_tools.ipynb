{
 "cells": [
  {
   "cell_type": "code",
   "execution_count": 6,
   "metadata": {},
   "outputs": [
    {
     "data": {
      "text/plain": [
       "'繁體中文。\\n為什麼會覺得煩呢？也許讓我們學寫繁體中文的話，我們可能會煩。\\n主要看所處的環境。\\n如果樓主從一出生就學的是繁體中文的話，現在讓你學寫簡體中文，你專也會煩的。如果一個英語為母語的國家，讓他們的人民學中文，不管是屬繁體還是簡體都會煩。\\n要你用你的純母語來書寫，應該是最順手的吧'"
      ]
     },
     "execution_count": 6,
     "metadata": {},
     "output_type": "execute_result"
    }
   ],
   "source": [
    "from opencc import OpenCC\n",
    "cc = OpenCC('s2tw')\n",
    "# 保證一定幫你關閉檔案\n",
    "with open(\"test.txt\", \"r\", encoding=\"utf-8\") as f:\n",
    "    to_convert = f.read()\n",
    "converted = cc.convert(to_convert)\n",
    "converted"
   ]
  },
  {
   "cell_type": "code",
   "execution_count": 12,
   "metadata": {},
   "outputs": [],
   "source": [
    "# MAC: [SSL CERTIFICATION FAILED]\n",
    "import ssl\n",
    "ssl._create_default_https_context = ssl._create_unverified_context"
   ]
  },
  {
   "cell_type": "code",
   "execution_count": 15,
   "metadata": {},
   "outputs": [
    {
     "name": "stderr",
     "output_type": "stream",
     "text": [
      "Building prefix dict from C:\\Users\\A30\\PycharmProjects\\MLDemo1\\dict.txt.big ...\n",
      "Dumping model to file cache C:\\Users\\A30\\AppData\\Local\\Temp\\jieba.uef49d72bbd005e2cef5ffc191e8fa7c8.cache\n",
      "Loading model cost 2.092 seconds.\n",
      "Prefix dict has been built succesfully.\n"
     ]
    },
    {
     "data": {
      "text/plain": [
       "'台灣 連續 14 天 沒有 武漢肺炎 本土 確診 個案 ， 立委 關注 國內 疫情 是否 能 在 6 月底 告一段落 。 衛福部長 陳時中 表示 ， 有 這個 可能 ， 但 全球 疫情 仍會 持續 。 至於 秋冬 時期 疫情 是否 死灰復燃 ， 仍 需視 疫苗 研發 的 情形 。 \\n \\n 衛福部長 陳時中 上午 赴 立法院 財政 委員會 ， 專案 報告 「 嚴重 特殊 傳染性 肺炎 防治 及 紓 困 振興 特別 條例 施行 執行 情形 」 ， 並備 質詢 。 \\n \\n 由於 台灣 已經 連續 14 天 沒有 武漢肺炎 （ 2019 冠狀病毒 疾病 ,   COVID - 19 ） 本土 確診 個案 ， 而 每天 增加 的 確診 案例 數字 低 ， 甚至 多次 出現 零例 的 情形 ， 不但 民眾 感到 安心 ， 也 讓 第一線 防疫 人員 提振 不少 士氣 。 \\n \\n 國民黨 立委 曾銘宗 質詢 時 關心 ， 台灣 連續 14 天 沒有 武漢肺炎 本土 確診 個案 ， 在 沒有 突發 的 情形 之下 ， 國內 疫情 是否 能 在 6 月底 告一段落 。 \\n \\n 陳時中 答詢 指出 ， 這 一個 時間 點 確實 是 有 可能 的 ， 但 他 也 補充 說明 ， 即便 國內 疫情 趨緩 ， 但是 全球 的 疫情 不太可能 在 6 月底 就 結束 。 \\n \\n 曾銘宗 進一步 詢問 ， 若 是 台灣 的 疫情 在 6 月底 順利 控制 住 ， 有沒有 可能 在 秋季 或 冬季 時 捲土重來 。 對於 這個 問題 ， 陳時中 坦言 ， 仍要 看 WHO 的 抗體 無用論 ， 在 科學 上 的 驗證 成果 。 \\n \\n 陳時中 指出 ， 如果 根據 科學 實證 ， 抗體 沒有 辦法 產生 一定 的 效果 ， 將會 對 疫苗 研發 產生 一定 的 影響 ， 如果 疫苗 無效 ， 那麼 疫情 在 秋冬 時 再來 一次 是 必然 的 情形 。 現在 大家 對於 疫苗 的 期待 度 確實 下降 ， 但是 這都 還是 要 科學 驗證 ， 此外 相關 的 藥物 研發 工作 也 持續 進行 。 \\n \\n 至於 是否 放寬 相關 的 防疫 規範 ， 陳時中 說明 ， 各 方面 措施 都 在 研議 中 ， 不管 是 3 階段 整備 方案 ， 或是 未來 情勢 有 改進 的話 ， 也 要 根據 相關 科學 證據 做 一些 放寬 的 準備 ， 這些 都 有 在 準備 中 。'"
      ]
     },
     "execution_count": 15,
     "metadata": {},
     "output_type": "execute_result"
    }
   ],
   "source": [
    "import jieba\n",
    "from urllib.request import urlretrieve\n",
    "\n",
    "with open(\"news.txt\", \"r\", encoding=\"utf-8\") as f:\n",
    "    news = f.read()\n",
    "\n",
    "url = \"https://github.com/fxsjy/jieba/raw/master/extra_dict/dict.txt.big\"\n",
    "urlretrieve(url, \"dict.txt.big\")\n",
    "\n",
    "jieba.set_dictionary(\"dict.txt.big\")\n",
    "jieba.load_userdict(\"health_dict.txt\")\n",
    "\n",
    "\" \".join(jieba.cut(news))"
   ]
  },
  {
   "cell_type": "code",
   "execution_count": 16,
   "metadata": {},
   "outputs": [
    {
     "data": {
      "text/plain": [
       "['陳時中',\n",
       " '疫情',\n",
       " '沒有',\n",
       " '台灣',\n",
       " '確診',\n",
       " '科學',\n",
       " '連續',\n",
       " '14',\n",
       " '武漢肺炎',\n",
       " '個案',\n",
       " '國內',\n",
       " '研發',\n",
       " '相關',\n",
       " '情形',\n",
       " '疫苗',\n",
       " '立委',\n",
       " '月底',\n",
       " '衛福部長',\n",
       " '這個',\n",
       " '持續']"
      ]
     },
     "execution_count": 16,
     "metadata": {},
     "output_type": "execute_result"
    }
   ],
   "source": [
    "import jieba.analyse\n",
    "jieba.analyse.extract_tags(news)"
   ]
  },
  {
   "cell_type": "code",
   "execution_count": null,
   "metadata": {},
   "outputs": [],
   "source": []
  }
 ],
 "metadata": {
  "kernelspec": {
   "display_name": "Python 3",
   "language": "python",
   "name": "python3"
  },
  "language_info": {
   "codemirror_mode": {
    "name": "ipython",
    "version": 3
   },
   "file_extension": ".py",
   "mimetype": "text/x-python",
   "name": "python",
   "nbconvert_exporter": "python",
   "pygments_lexer": "ipython3",
   "version": "3.7.6"
  }
 },
 "nbformat": 4,
 "nbformat_minor": 4
}
