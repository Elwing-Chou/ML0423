{
 "cells": [
  {
   "cell_type": "markdown",
   "metadata": {},
   "source": [
    "# 分類\n",
    "\n",
    "## 資料集\n",
    "\n",
    "![說明文字](https://www.google.com/images/branding/googlelogo/2x/googlelogo_color_92x30dp.png)\n",
    "\n",
    "[超連結說明](https://www.google.com)\n",
    "\n",
    "\n",
    "姓名 | 身高\n",
    "----|----\n",
    "Elwing|175\n",
    "Bob|180\n",
    "\n",
    "$ c = \\sqrt {\\frac{a}{b-d}} $"
   ]
  },
  {
   "cell_type": "code",
   "execution_count": null,
   "metadata": {},
   "outputs": [],
   "source": []
  }
 ],
 "metadata": {
  "kernelspec": {
   "display_name": "Python 3",
   "language": "python",
   "name": "python3"
  },
  "language_info": {
   "codemirror_mode": {
    "name": "ipython",
    "version": 3
   },
   "file_extension": ".py",
   "mimetype": "text/x-python",
   "name": "python",
   "nbconvert_exporter": "python",
   "pygments_lexer": "ipython3",
   "version": "3.7.6"
  }
 },
 "nbformat": 4,
 "nbformat_minor": 4
}
