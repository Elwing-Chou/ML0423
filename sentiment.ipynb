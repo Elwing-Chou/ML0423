{
  "nbformat": 4,
  "nbformat_minor": 0,
  "metadata": {
    "colab": {
      "name": "sentiment.ipynb",
      "provenance": []
    },
    "kernelspec": {
      "name": "python3",
      "display_name": "Python 3"
    }
  },
  "cells": [
    {
      "cell_type": "code",
      "metadata": {
        "id": "FsWkMRcIgmuP",
        "colab_type": "code",
        "colab": {
          "base_uri": "https://localhost:8080/",
          "height": 50
        },
        "outputId": "73134ceb-e565-482a-b5f0-e421147b11ac"
      },
      "source": [
        "import tensorflow as tf\n",
        "\n",
        "dataset = tf.keras.utils.get_file(\n",
        "    fname=\"aclImdb.tar.gz\", \n",
        "    origin=\"http://ai.stanford.edu/~amaas/data/sentiment/aclImdb_v1.tar.gz\", \n",
        "    extract=True,\n",
        ")"
      ],
      "execution_count": 1,
      "outputs": [
        {
          "output_type": "stream",
          "text": [
            "Downloading data from http://ai.stanford.edu/~amaas/data/sentiment/aclImdb_v1.tar.gz\n",
            "84131840/84125825 [==============================] - 1s 0us/step\n"
          ],
          "name": "stdout"
        }
      ]
    },
    {
      "cell_type": "code",
      "metadata": {
        "id": "M9fguAV-hM_w",
        "colab_type": "code",
        "colab": {}
      },
      "source": [
        "import os\n",
        "import glob\n",
        "import pandas as pd\n",
        "\n",
        "def read(fp):\n",
        "    with open(fp, \"r\", encoding=\"utf-8\") as f:\n",
        "        content = f.read()\n",
        "    return content\n",
        "\n",
        "def read_data(base):\n",
        "    pos = glob.glob(os.path.join(base, \"pos\", \"*\"))\n",
        "    neg = glob.glob(os.path.join(base, \"neg\", \"*\"))\n",
        "    df = pd.DataFrame({\n",
        "        \"path\":(neg + pos),\n",
        "        \"target\":([0]*len(neg) + [1] * len(pos))\n",
        "    })\n",
        "    df[\"content\"] = df[\"path\"].apply(read)\n",
        "    return df"
      ],
      "execution_count": 0,
      "outputs": []
    },
    {
      "cell_type": "code",
      "metadata": {
        "id": "kg5B30GYj5o3",
        "colab_type": "code",
        "colab": {
          "base_uri": "https://localhost:8080/",
          "height": 419
        },
        "outputId": "69453443-dd33-4e4e-c107-b079e2661b5c"
      },
      "source": [
        "dirname = os.path.dirname(dataset)\n",
        "base = os.path.join(dirname, \"aclImdb\", \"train\")\n",
        "train_df = read_data(base)\n",
        "base = os.path.join(dirname, \"aclImdb\", \"test\")\n",
        "test_df = read_data(base)\n",
        "test_df"
      ],
      "execution_count": 17,
      "outputs": [
        {
          "output_type": "execute_result",
          "data": {
            "text/html": [
              "<div>\n",
              "<style scoped>\n",
              "    .dataframe tbody tr th:only-of-type {\n",
              "        vertical-align: middle;\n",
              "    }\n",
              "\n",
              "    .dataframe tbody tr th {\n",
              "        vertical-align: top;\n",
              "    }\n",
              "\n",
              "    .dataframe thead th {\n",
              "        text-align: right;\n",
              "    }\n",
              "</style>\n",
              "<table border=\"1\" class=\"dataframe\">\n",
              "  <thead>\n",
              "    <tr style=\"text-align: right;\">\n",
              "      <th></th>\n",
              "      <th>path</th>\n",
              "      <th>target</th>\n",
              "      <th>content</th>\n",
              "    </tr>\n",
              "  </thead>\n",
              "  <tbody>\n",
              "    <tr>\n",
              "      <th>0</th>\n",
              "      <td>/root/.keras/datasets/aclImdb/test/neg/9801_2.txt</td>\n",
              "      <td>0</td>\n",
              "      <td>In the 1940s, Veronica Lake made a meteoric ri...</td>\n",
              "    </tr>\n",
              "    <tr>\n",
              "      <th>1</th>\n",
              "      <td>/root/.keras/datasets/aclImdb/test/neg/6813_2.txt</td>\n",
              "      <td>0</td>\n",
              "      <td>After reading the reviews I decided to rent th...</td>\n",
              "    </tr>\n",
              "    <tr>\n",
              "      <th>2</th>\n",
              "      <td>/root/.keras/datasets/aclImdb/test/neg/3265_1.txt</td>\n",
              "      <td>0</td>\n",
              "      <td>This movie is so God-awful that it was literal...</td>\n",
              "    </tr>\n",
              "    <tr>\n",
              "      <th>3</th>\n",
              "      <td>/root/.keras/datasets/aclImdb/test/neg/7386_4.txt</td>\n",
              "      <td>0</td>\n",
              "      <td>Even though this is the first film by the brok...</td>\n",
              "    </tr>\n",
              "    <tr>\n",
              "      <th>4</th>\n",
              "      <td>/root/.keras/datasets/aclImdb/test/neg/3918_1.txt</td>\n",
              "      <td>0</td>\n",
              "      <td>I must admit that this is one of the worst mov...</td>\n",
              "    </tr>\n",
              "    <tr>\n",
              "      <th>...</th>\n",
              "      <td>...</td>\n",
              "      <td>...</td>\n",
              "      <td>...</td>\n",
              "    </tr>\n",
              "    <tr>\n",
              "      <th>24995</th>\n",
              "      <td>/root/.keras/datasets/aclImdb/test/pos/6384_10...</td>\n",
              "      <td>1</td>\n",
              "      <td>I saw this movie at a screener and its the bes...</td>\n",
              "    </tr>\n",
              "    <tr>\n",
              "      <th>24996</th>\n",
              "      <td>/root/.keras/datasets/aclImdb/test/pos/9051_8.txt</td>\n",
              "      <td>1</td>\n",
              "      <td>This 60min film shows just how much fun filmma...</td>\n",
              "    </tr>\n",
              "    <tr>\n",
              "      <th>24997</th>\n",
              "      <td>/root/.keras/datasets/aclImdb/test/pos/3995_9.txt</td>\n",
              "      <td>1</td>\n",
              "      <td>It is not surprising that this film was made b...</td>\n",
              "    </tr>\n",
              "    <tr>\n",
              "      <th>24998</th>\n",
              "      <td>/root/.keras/datasets/aclImdb/test/pos/12320_1...</td>\n",
              "      <td>1</td>\n",
              "      <td>The last film of John Huston, the great Americ...</td>\n",
              "    </tr>\n",
              "    <tr>\n",
              "      <th>24999</th>\n",
              "      <td>/root/.keras/datasets/aclImdb/test/pos/6083_10...</td>\n",
              "      <td>1</td>\n",
              "      <td>I watched this movie when it was released and ...</td>\n",
              "    </tr>\n",
              "  </tbody>\n",
              "</table>\n",
              "<p>25000 rows × 3 columns</p>\n",
              "</div>"
            ],
            "text/plain": [
              "                                                    path  ...                                            content\n",
              "0      /root/.keras/datasets/aclImdb/test/neg/9801_2.txt  ...  In the 1940s, Veronica Lake made a meteoric ri...\n",
              "1      /root/.keras/datasets/aclImdb/test/neg/6813_2.txt  ...  After reading the reviews I decided to rent th...\n",
              "2      /root/.keras/datasets/aclImdb/test/neg/3265_1.txt  ...  This movie is so God-awful that it was literal...\n",
              "3      /root/.keras/datasets/aclImdb/test/neg/7386_4.txt  ...  Even though this is the first film by the brok...\n",
              "4      /root/.keras/datasets/aclImdb/test/neg/3918_1.txt  ...  I must admit that this is one of the worst mov...\n",
              "...                                                  ...  ...                                                ...\n",
              "24995  /root/.keras/datasets/aclImdb/test/pos/6384_10...  ...  I saw this movie at a screener and its the bes...\n",
              "24996  /root/.keras/datasets/aclImdb/test/pos/9051_8.txt  ...  This 60min film shows just how much fun filmma...\n",
              "24997  /root/.keras/datasets/aclImdb/test/pos/3995_9.txt  ...  It is not surprising that this film was made b...\n",
              "24998  /root/.keras/datasets/aclImdb/test/pos/12320_1...  ...  The last film of John Huston, the great Americ...\n",
              "24999  /root/.keras/datasets/aclImdb/test/pos/6083_10...  ...  I watched this movie when it was released and ...\n",
              "\n",
              "[25000 rows x 3 columns]"
            ]
          },
          "metadata": {
            "tags": []
          },
          "execution_count": 17
        }
      ]
    }
  ]
}