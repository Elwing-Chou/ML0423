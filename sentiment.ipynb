{
  "nbformat": 4,
  "nbformat_minor": 0,
  "metadata": {
    "colab": {
      "name": "sentiment.ipynb",
      "provenance": []
    },
    "kernelspec": {
      "name": "python3",
      "display_name": "Python 3"
    }
  },
  "cells": [
    {
      "cell_type": "code",
      "metadata": {
        "id": "FsWkMRcIgmuP",
        "colab_type": "code",
        "colab": {
          "base_uri": "https://localhost:8080/",
          "height": 50
        },
        "outputId": "73134ceb-e565-482a-b5f0-e421147b11ac"
      },
      "source": [
        "import tensorflow as tf\n",
        "\n",
        "dataset = tf.keras.utils.get_file(\n",
        "    fname=\"aclImdb.tar.gz\", \n",
        "    origin=\"http://ai.stanford.edu/~amaas/data/sentiment/aclImdb_v1.tar.gz\", \n",
        "    extract=True,\n",
        ")"
      ],
      "execution_count": 1,
      "outputs": [
        {
          "output_type": "stream",
          "text": [
            "Downloading data from http://ai.stanford.edu/~amaas/data/sentiment/aclImdb_v1.tar.gz\n",
            "84131840/84125825 [==============================] - 1s 0us/step\n"
          ],
          "name": "stdout"
        }
      ]
    },
    {
      "cell_type": "code",
      "metadata": {
        "id": "M9fguAV-hM_w",
        "colab_type": "code",
        "colab": {}
      },
      "source": [
        "import os\n",
        "import glob\n",
        "import pandas as pd\n",
        "\n",
        "def read(fp):\n",
        "    with open(fp, \"r\", encoding=\"utf-8\") as f:\n",
        "        content = f.read()\n",
        "    return content\n",
        "\n",
        "def read_data(base):\n",
        "    pos = glob.glob(os.path.join(base, \"pos\", \"*\"))\n",
        "    neg = glob.glob(os.path.join(base, \"neg\", \"*\"))\n",
        "    df = pd.DataFrame({\n",
        "        \"path\":(neg + pos),\n",
        "        \"target\":([0]*len(neg) + [1] * len(pos))\n",
        "    })\n",
        "    df[\"content\"] = df[\"path\"].apply(read)\n",
        "    return df"
      ],
      "execution_count": 0,
      "outputs": []
    },
    {
      "cell_type": "code",
      "metadata": {
        "id": "kg5B30GYj5o3",
        "colab_type": "code",
        "colab": {
          "base_uri": "https://localhost:8080/",
          "height": 570
        },
        "outputId": "69453443-dd33-4e4e-c107-b079e2661b5c"
      },
      "source": [
        "dirname = os.path.dirname(dataset)\n",
        "base = os.path.join(dirname, \"aclImdb\", \"train\")\n",
        "train_df = read_data(base)\n",
        "base = os.path.join(dirname, \"aclImdb\", \"test\")\n",
        "test_df = read_data(base)\n",
        "test_df"
      ],
      "execution_count": 17,
      "outputs": [
        {
          "output_type": "execute_result",
          "data": {
            "text/html": [
              "<div>\n",
              "<style scoped>\n",
              "    .dataframe tbody tr th:only-of-type {\n",
              "        vertical-align: middle;\n",
              "    }\n",
              "\n",
              "    .dataframe tbody tr th {\n",
              "        vertical-align: top;\n",
              "    }\n",
              "\n",
              "    .dataframe thead th {\n",
              "        text-align: right;\n",
              "    }\n",
              "</style>\n",
              "<table border=\"1\" class=\"dataframe\">\n",
              "  <thead>\n",
              "    <tr style=\"text-align: right;\">\n",
              "      <th></th>\n",
              "      <th>path</th>\n",
              "      <th>target</th>\n",
              "      <th>content</th>\n",
              "    </tr>\n",
              "  </thead>\n",
              "  <tbody>\n",
              "    <tr>\n",
              "      <th>0</th>\n",
              "      <td>/root/.keras/datasets/aclImdb/test/neg/9801_2.txt</td>\n",
              "      <td>0</td>\n",
              "      <td>In the 1940s, Veronica Lake made a meteoric ri...</td>\n",
              "    </tr>\n",
              "    <tr>\n",
              "      <th>1</th>\n",
              "      <td>/root/.keras/datasets/aclImdb/test/neg/6813_2.txt</td>\n",
              "      <td>0</td>\n",
              "      <td>After reading the reviews I decided to rent th...</td>\n",
              "    </tr>\n",
              "    <tr>\n",
              "      <th>2</th>\n",
              "      <td>/root/.keras/datasets/aclImdb/test/neg/3265_1.txt</td>\n",
              "      <td>0</td>\n",
              "      <td>This movie is so God-awful that it was literal...</td>\n",
              "    </tr>\n",
              "    <tr>\n",
              "      <th>3</th>\n",
              "      <td>/root/.keras/datasets/aclImdb/test/neg/7386_4.txt</td>\n",
              "      <td>0</td>\n",
              "      <td>Even though this is the first film by the brok...</td>\n",
              "    </tr>\n",
              "    <tr>\n",
              "      <th>4</th>\n",
              "      <td>/root/.keras/datasets/aclImdb/test/neg/3918_1.txt</td>\n",
              "      <td>0</td>\n",
              "      <td>I must admit that this is one of the worst mov...</td>\n",
              "    </tr>\n",
              "    <tr>\n",
              "      <th>...</th>\n",
              "      <td>...</td>\n",
              "      <td>...</td>\n",
              "      <td>...</td>\n",
              "    </tr>\n",
              "    <tr>\n",
              "      <th>24995</th>\n",
              "      <td>/root/.keras/datasets/aclImdb/test/pos/6384_10...</td>\n",
              "      <td>1</td>\n",
              "      <td>I saw this movie at a screener and its the bes...</td>\n",
              "    </tr>\n",
              "    <tr>\n",
              "      <th>24996</th>\n",
              "      <td>/root/.keras/datasets/aclImdb/test/pos/9051_8.txt</td>\n",
              "      <td>1</td>\n",
              "      <td>This 60min film shows just how much fun filmma...</td>\n",
              "    </tr>\n",
              "    <tr>\n",
              "      <th>24997</th>\n",
              "      <td>/root/.keras/datasets/aclImdb/test/pos/3995_9.txt</td>\n",
              "      <td>1</td>\n",
              "      <td>It is not surprising that this film was made b...</td>\n",
              "    </tr>\n",
              "    <tr>\n",
              "      <th>24998</th>\n",
              "      <td>/root/.keras/datasets/aclImdb/test/pos/12320_1...</td>\n",
              "      <td>1</td>\n",
              "      <td>The last film of John Huston, the great Americ...</td>\n",
              "    </tr>\n",
              "    <tr>\n",
              "      <th>24999</th>\n",
              "      <td>/root/.keras/datasets/aclImdb/test/pos/6083_10...</td>\n",
              "      <td>1</td>\n",
              "      <td>I watched this movie when it was released and ...</td>\n",
              "    </tr>\n",
              "  </tbody>\n",
              "</table>\n",
              "<p>25000 rows × 3 columns</p>\n",
              "</div>"
            ],
            "text/plain": [
              "                                                    path  ...                                            content\n",
              "0      /root/.keras/datasets/aclImdb/test/neg/9801_2.txt  ...  In the 1940s, Veronica Lake made a meteoric ri...\n",
              "1      /root/.keras/datasets/aclImdb/test/neg/6813_2.txt  ...  After reading the reviews I decided to rent th...\n",
              "2      /root/.keras/datasets/aclImdb/test/neg/3265_1.txt  ...  This movie is so God-awful that it was literal...\n",
              "3      /root/.keras/datasets/aclImdb/test/neg/7386_4.txt  ...  Even though this is the first film by the brok...\n",
              "4      /root/.keras/datasets/aclImdb/test/neg/3918_1.txt  ...  I must admit that this is one of the worst mov...\n",
              "...                                                  ...  ...                                                ...\n",
              "24995  /root/.keras/datasets/aclImdb/test/pos/6384_10...  ...  I saw this movie at a screener and its the bes...\n",
              "24996  /root/.keras/datasets/aclImdb/test/pos/9051_8.txt  ...  This 60min film shows just how much fun filmma...\n",
              "24997  /root/.keras/datasets/aclImdb/test/pos/3995_9.txt  ...  It is not surprising that this film was made b...\n",
              "24998  /root/.keras/datasets/aclImdb/test/pos/12320_1...  ...  The last film of John Huston, the great Americ...\n",
              "24999  /root/.keras/datasets/aclImdb/test/pos/6083_10...  ...  I watched this movie when it was released and ...\n",
              "\n",
              "[25000 rows x 3 columns]"
            ]
          },
          "metadata": {
            "tags": []
          },
          "execution_count": 17
        }
      ]
    },
    {
      "cell_type": "code",
      "metadata": {
        "id": "m8Td9t7VnfO9",
        "colab_type": "code",
        "colab": {}
      },
      "source": [
        "# 預處理1. 先把文字化成數字\n",
        "from tensorflow.keras.preprocessing.text import Tokenizer\n",
        "# 出現太少的詞, 你可以選擇不看, 只留出現次數最高的2000(num_words)\n",
        "tok = Tokenizer(num_words=2000)\n",
        "tok.fit_on_texts(train_df[\"content\"])"
      ],
      "execution_count": 0,
      "outputs": []
    },
    {
      "cell_type": "code",
      "metadata": {
        "id": "WCqUAZtoo7C3",
        "colab_type": "code",
        "colab": {}
      },
      "source": [
        "# 想要看每個單詞被給的編號: \n",
        "# tok.word_index"
      ],
      "execution_count": 0,
      "outputs": []
    },
    {
      "cell_type": "code",
      "metadata": {
        "id": "zmicc44_pZfs",
        "colab_type": "code",
        "colab": {}
      },
      "source": [
        "x_train_seq = tok.texts_to_sequences(train_df[\"content\"])\n",
        "x_test_seq = tok.texts_to_sequences(test_df[\"content\"])\n",
        "pd.DataFrame(x_train_seq)"
      ],
      "execution_count": 0,
      "outputs": []
    },
    {
      "cell_type": "code",
      "metadata": {
        "id": "Qn4wuq1sr-Bi",
        "colab_type": "code",
        "colab": {}
      },
      "source": [
        "from tensorflow.keras.preprocessing.sequence import pad_sequences\n",
        "x_train_pad = pad_sequences(x_train_seq, maxlen=256)\n",
        "x_test_pad = pad_sequences(x_test_seq, maxlen=256)\n",
        "pd.DataFrame(x_train_pad)"
      ],
      "execution_count": 0,
      "outputs": []
    },
    {
      "cell_type": "code",
      "metadata": {
        "id": "bUHxCDgAv9EE",
        "colab_type": "code",
        "colab": {
          "base_uri": "https://localhost:8080/",
          "height": 345
        },
        "outputId": "cd0ec395-188e-4815-954b-1b267946fd38"
      },
      "source": [
        "from tensorflow.keras.models import Sequential\n",
        "from tensorflow.keras.layers import Embedding\n",
        "from tensorflow.keras.layers import Flatten, Dropout, Dense\n",
        "\n",
        "layers = [\n",
        "    # 2001 * 64 = 128064\n",
        "    Embedding(2001, 64, mask_zero=True, input_length=256),\n",
        "    Flatten(),\n",
        "    Dense(256, activation=\"relu\"),\n",
        "    Dropout(0.25),\n",
        "    Dense(2, activation=\"softmax\")\n",
        "]\n",
        "model = Sequential(layers)\n",
        "model.summary()"
      ],
      "execution_count": 37,
      "outputs": [
        {
          "output_type": "stream",
          "text": [
            "Model: \"sequential_3\"\n",
            "_________________________________________________________________\n",
            "Layer (type)                 Output Shape              Param #   \n",
            "=================================================================\n",
            "embedding_3 (Embedding)      (None, 256, 64)           128064    \n",
            "_________________________________________________________________\n",
            "flatten_3 (Flatten)          (None, 16384)             0         \n",
            "_________________________________________________________________\n",
            "dense_4 (Dense)              (None, 256)               4194560   \n",
            "_________________________________________________________________\n",
            "dropout_2 (Dropout)          (None, 256)               0         \n",
            "_________________________________________________________________\n",
            "dense_5 (Dense)              (None, 2)                 514       \n",
            "=================================================================\n",
            "Total params: 4,323,138\n",
            "Trainable params: 4,323,138\n",
            "Non-trainable params: 0\n",
            "_________________________________________________________________\n"
          ],
          "name": "stdout"
        }
      ]
    },
    {
      "cell_type": "code",
      "metadata": {
        "id": "CdSn95xnzlpk",
        "colab_type": "code",
        "colab": {}
      },
      "source": [
        "from tensorflow.keras.losses import SparseCategoricalCrossentropy\n",
        "model.compile(loss=SparseCategoricalCrossentropy(),\n",
        "              optimizer=\"adam\",\n",
        "              metrics=[\"accuracy\"])"
      ],
      "execution_count": 0,
      "outputs": []
    },
    {
      "cell_type": "code",
      "metadata": {
        "id": "QdeqUlD40D0Y",
        "colab_type": "code",
        "colab": {
          "base_uri": "https://localhost:8080/",
          "height": 168
        },
        "outputId": "c056e4e0-1a07-4fd0-eea0-2970e6d10960"
      },
      "source": [
        "import numpy as np\n",
        "from tensorflow.keras.callbacks import EarlyStopping, ModelCheckpoint\n",
        "callbacks = [\n",
        "    EarlyStopping(patience=3, restore_best_weights=True),\n",
        "]\n",
        "model.fit(x_train_pad,\n",
        "          np.array(train_df[\"target\"]),\n",
        "          batch_size=200,\n",
        "          epochs=100,\n",
        "          validation_split=0.1,\n",
        "          verbose=2,\n",
        "          callbacks=callbacks)"
      ],
      "execution_count": 39,
      "outputs": [
        {
          "output_type": "stream",
          "text": [
            "Epoch 1/100\n",
            "113/113 - 15s - loss: 0.5042 - accuracy: 0.7278 - val_loss: 0.3884 - val_accuracy: 0.8468\n",
            "Epoch 2/100\n",
            "113/113 - 17s - loss: 0.1969 - accuracy: 0.9240 - val_loss: 0.5474 - val_accuracy: 0.7856\n",
            "Epoch 3/100\n",
            "113/113 - 17s - loss: 0.0636 - accuracy: 0.9811 - val_loss: 0.5231 - val_accuracy: 0.8328\n",
            "Epoch 4/100\n",
            "113/113 - 17s - loss: 0.0146 - accuracy: 0.9976 - val_loss: 0.6971 - val_accuracy: 0.8248\n"
          ],
          "name": "stdout"
        },
        {
          "output_type": "execute_result",
          "data": {
            "text/plain": [
              "<tensorflow.python.keras.callbacks.History at 0x7fc9f4084198>"
            ]
          },
          "metadata": {
            "tags": []
          },
          "execution_count": 39
        }
      ]
    },
    {
      "cell_type": "code",
      "metadata": {
        "id": "dbSvh-GO1HfH",
        "colab_type": "code",
        "colab": {
          "base_uri": "https://localhost:8080/",
          "height": 50
        },
        "outputId": "606ad870-d204-40e5-cbc3-cbf0b9862bff"
      },
      "source": [
        "model.evaluate(x_test_pad, np.array(test_df[\"target\"]))"
      ],
      "execution_count": 40,
      "outputs": [
        {
          "output_type": "stream",
          "text": [
            "782/782 [==============================] - 6s 8ms/step - loss: 0.3261 - accuracy: 0.8578\n"
          ],
          "name": "stdout"
        },
        {
          "output_type": "execute_result",
          "data": {
            "text/plain": [
              "[0.32610467076301575, 0.8577600121498108]"
            ]
          },
          "metadata": {
            "tags": []
          },
          "execution_count": 40
        }
      ]
    },
    {
      "cell_type": "code",
      "metadata": {
        "id": "RXHS8x2k4tK-",
        "colab_type": "code",
        "colab": {
          "base_uri": "https://localhost:8080/",
          "height": 185
        },
        "outputId": "68820e56-4a54-40c8-9d02-99b34243afb3"
      },
      "source": [
        "layers = [\n",
        "    # 2001 * 64 = 128064\n",
        "    Embedding(2001, 64, mask_zero=True),\n",
        "]\n",
        "embedding = Sequential(layers)\n",
        "w = model.layers[0].get_weights()\n",
        "embedding.set_weights(w)\n",
        "embedding.summary()"
      ],
      "execution_count": 44,
      "outputs": [
        {
          "output_type": "stream",
          "text": [
            "Model: \"sequential_5\"\n",
            "_________________________________________________________________\n",
            "Layer (type)                 Output Shape              Param #   \n",
            "=================================================================\n",
            "embedding_5 (Embedding)      (None, None, 64)          128064    \n",
            "=================================================================\n",
            "Total params: 128,064\n",
            "Trainable params: 128,064\n",
            "Non-trainable params: 0\n",
            "_________________________________________________________________\n"
          ],
          "name": "stdout"
        }
      ]
    },
    {
      "cell_type": "code",
      "metadata": {
        "id": "-G7zFbio5R_f",
        "colab_type": "code",
        "colab": {
          "base_uri": "https://localhost:8080/",
          "height": 302
        },
        "outputId": "aca2d200-7393-45cf-c695-91f51b0600dd"
      },
      "source": [
        "embedding.predict([[1]])"
      ],
      "execution_count": 45,
      "outputs": [
        {
          "output_type": "execute_result",
          "data": {
            "text/plain": [
              "array([[[ 0.0261382 , -0.01586764, -0.00016509, -0.02717868,\n",
              "          0.02160234,  0.03405885, -0.01373189,  0.0137777 ,\n",
              "          0.00644511,  0.01058135,  0.01371132,  0.0589944 ,\n",
              "          0.0184916 ,  0.02367891,  0.0174635 , -0.04439824,\n",
              "          0.00085253,  0.0327115 ,  0.02847491,  0.01086224,\n",
              "          0.01775193,  0.02886376, -0.0126312 ,  0.02982564,\n",
              "          0.00899552,  0.02932937, -0.0275043 , -0.00365982,\n",
              "         -0.04048689,  0.00455712, -0.01618486, -0.00615302,\n",
              "         -0.03273933,  0.01812304,  0.01681015,  0.02123044,\n",
              "         -0.00847221, -0.02978302,  0.03369495,  0.05089099,\n",
              "         -0.02063723, -0.00056442,  0.02306974, -0.00363007,\n",
              "         -0.00683866, -0.02056108, -0.02128604, -0.03502803,\n",
              "          0.00841818,  0.01750068,  0.01047075,  0.0297055 ,\n",
              "         -0.0043635 , -0.00716791,  0.03463337,  0.020104  ,\n",
              "          0.01837786,  0.03378546,  0.03589766,  0.03752119,\n",
              "         -0.02386323,  0.03919845, -0.02902404, -0.00570403]]],\n",
              "      dtype=float32)"
            ]
          },
          "metadata": {
            "tags": []
          },
          "execution_count": 45
        }
      ]
    }
  ]
}