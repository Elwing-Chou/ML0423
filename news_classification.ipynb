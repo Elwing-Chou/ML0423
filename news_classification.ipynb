{
 "cells": [
  {
   "cell_type": "code",
   "execution_count": 9,
   "metadata": {
    "collapsed": true
   },
   "outputs": [
    {
     "data": {
      "text/html": [
       "<div>\n",
       "<style scoped>\n",
       "    .dataframe tbody tr th:only-of-type {\n",
       "        vertical-align: middle;\n",
       "    }\n",
       "\n",
       "    .dataframe tbody tr th {\n",
       "        vertical-align: top;\n",
       "    }\n",
       "\n",
       "    .dataframe thead th {\n",
       "        text-align: right;\n",
       "    }\n",
       "</style>\n",
       "<table border=\"1\" class=\"dataframe\">\n",
       "  <thead>\n",
       "    <tr style=\"text-align: right;\">\n",
       "      <th></th>\n",
       "      <th>content</th>\n",
       "      <th>target</th>\n",
       "    </tr>\n",
       "  </thead>\n",
       "  <tbody>\n",
       "    <tr>\n",
       "      <th>0</th>\n",
       "      <td>【 日  期 】19960104\\n【 版  號 】1\\n【 標  題 】合巢蕪高速公路巢蕪...</td>\n",
       "      <td>交通</td>\n",
       "    </tr>\n",
       "    <tr>\n",
       "      <th>1</th>\n",
       "      <td>【 日  期 】19960226\\n【 版  號 】5\\n【 標  題 】我首臺載人磁懸浮列...</td>\n",
       "      <td>交通</td>\n",
       "    </tr>\n",
       "    <tr>\n",
       "      <th>2</th>\n",
       "      <td>大秦鐵路萬噸列車試運成功\\n新華社北京５月２４日電（通訊員李忠民）大秦...</td>\n",
       "      <td>交通</td>\n",
       "    </tr>\n",
       "    <tr>\n",
       "      <th>3</th>\n",
       "      <td>遼寧省檯安縣村村都通柏油路鄉村公路建設全國數第\\n一\\n    (4)...</td>\n",
       "      <td>交通</td>\n",
       "    </tr>\n",
       "    <tr>\n",
       "      <th>4</th>\n",
       "      <td>北京—烏蘭巴托—莫斯料３／４次國際旅客列車通車\\n３０週年\\n    ...</td>\n",
       "      <td>交通</td>\n",
       "    </tr>\n",
       "    <tr>\n",
       "      <th>...</th>\n",
       "      <td>...</td>\n",
       "      <td>...</td>\n",
       "    </tr>\n",
       "    <tr>\n",
       "      <th>2632</th>\n",
       "      <td>馬玉芹破女子４００米跑全國青年紀錄\\n新華社鞍山５月１０日電（通訊員王...</td>\n",
       "      <td>體育</td>\n",
       "    </tr>\n",
       "    <tr>\n",
       "      <th>2633</th>\n",
       "      <td>國際奧委會中國臺北委員吳經國訪問北京\\n新華社北京５月１０日電記者《中...</td>\n",
       "      <td>體育</td>\n",
       "    </tr>\n",
       "    <tr>\n",
       "      <th>2634</th>\n",
       "      <td>亞奧理事會３９個成員組織全部以書面形式確認參加\\n第十一屆亞運會\\n ...</td>\n",
       "      <td>體育</td>\n",
       "    </tr>\n",
       "    <tr>\n",
       "      <th>2635</th>\n",
       "      <td>世界盃乒乓球團體賽男子團體採用新賽制\\n新華社北京５月１０日電（記者樑...</td>\n",
       "      <td>體育</td>\n",
       "    </tr>\n",
       "    <tr>\n",
       "      <th>2636</th>\n",
       "      <td>登頂隊員簡介\\n新華社珠穆朗瑪峰５月１０日電登頂隊員簡介\\n     ...</td>\n",
       "      <td>體育</td>\n",
       "    </tr>\n",
       "  </tbody>\n",
       "</table>\n",
       "<p>2637 rows × 2 columns</p>\n",
       "</div>"
      ],
      "text/plain": [
       "                                                content target\n",
       "0     【 日  期 】19960104\\n【 版  號 】1\\n【 標  題 】合巢蕪高速公路巢蕪...     交通\n",
       "1     【 日  期 】19960226\\n【 版  號 】5\\n【 標  題 】我首臺載人磁懸浮列...     交通\n",
       "2                大秦鐵路萬噸列車試運成功\\n新華社北京５月２４日電（通訊員李忠民）大秦...     交通\n",
       "3                遼寧省檯安縣村村都通柏油路鄉村公路建設全國數第\\n一\\n    (4)...     交通\n",
       "4                北京—烏蘭巴托—莫斯料３／４次國際旅客列車通車\\n３０週年\\n    ...     交通\n",
       "...                                                 ...    ...\n",
       "2632             馬玉芹破女子４００米跑全國青年紀錄\\n新華社鞍山５月１０日電（通訊員王...     體育\n",
       "2633             國際奧委會中國臺北委員吳經國訪問北京\\n新華社北京５月１０日電記者《中...     體育\n",
       "2634             亞奧理事會３９個成員組織全部以書面形式確認參加\\n第十一屆亞運會\\n ...     體育\n",
       "2635             世界盃乒乓球團體賽男子團體採用新賽制\\n新華社北京５月１０日電（記者樑...     體育\n",
       "2636             登頂隊員簡介\\n新華社珠穆朗瑪峰５月１０日電登頂隊員簡介\\n     ...     體育\n",
       "\n",
       "[2637 rows x 2 columns]"
      ]
     },
     "execution_count": 9,
     "metadata": {},
     "output_type": "execute_result"
    }
   ],
   "source": [
    "import glob\n",
    "import os\n",
    "import pandas as pd\n",
    "\n",
    "fnames = glob.glob(\"chinese_news_trans/*/*.[tT][xX][tT]\")\n",
    "datas = {\n",
    "    \"content\":[],\n",
    "    \"target\":[]\n",
    "}\n",
    "for fn in fnames:\n",
    "    with open(fn, \"r\", encoding=\"utf-8\") as f:\n",
    "        content = f.read()\n",
    "    datas[\"content\"].append(content)\n",
    "    dn = os.path.split(fn)[0]\n",
    "    dn = os.path.split(dn)[-1]\n",
    "    datas[\"target\"].append(dn)\n",
    "train_df = pd.DataFrame(datas)\n",
    "train_df"
   ]
  },
  {
   "cell_type": "code",
   "execution_count": 10,
   "metadata": {
    "collapsed": true
   },
   "outputs": [
    {
     "data": {
      "text/html": [
       "<div>\n",
       "<style scoped>\n",
       "    .dataframe tbody tr th:only-of-type {\n",
       "        vertical-align: middle;\n",
       "    }\n",
       "\n",
       "    .dataframe tbody tr th {\n",
       "        vertical-align: top;\n",
       "    }\n",
       "\n",
       "    .dataframe thead th {\n",
       "        text-align: right;\n",
       "    }\n",
       "</style>\n",
       "<table border=\"1\" class=\"dataframe\">\n",
       "  <thead>\n",
       "    <tr style=\"text-align: right;\">\n",
       "      <th></th>\n",
       "      <th>content</th>\n",
       "      <th>target</th>\n",
       "    </tr>\n",
       "  </thead>\n",
       "  <tbody>\n",
       "    <tr>\n",
       "      <th>0</th>\n",
       "      <td>日月光華 -- Traffic_Info精華區文章閱讀\\n-----------------...</td>\n",
       "      <td>交通</td>\n",
       "    </tr>\n",
       "    <tr>\n",
       "      <th>1</th>\n",
       "      <td>日月光華 -- Traffic_Info精華區文章閱讀\\n-----------------...</td>\n",
       "      <td>交通</td>\n",
       "    </tr>\n",
       "    <tr>\n",
       "      <th>2</th>\n",
       "      <td>日月光華 -- Traffic_Info精華區文章閱讀\\n-----------------...</td>\n",
       "      <td>交通</td>\n",
       "    </tr>\n",
       "    <tr>\n",
       "      <th>3</th>\n",
       "      <td>三趟火車停開 乘客可全額退票 \\n瀏覽次數：1180 \\n    昨日，來自鐵路部門的消息說...</td>\n",
       "      <td>交通</td>\n",
       "    </tr>\n",
       "    <tr>\n",
       "      <th>4</th>\n",
       "      <td>日月光華 -- Traffic_Info精華區文章閱讀\\n-----------------...</td>\n",
       "      <td>交通</td>\n",
       "    </tr>\n",
       "    <tr>\n",
       "      <th>...</th>\n",
       "      <td>...</td>\n",
       "      <td>...</td>\n",
       "    </tr>\n",
       "    <tr>\n",
       "      <th>96</th>\n",
       "      <td>最優秀選手無緣亞運會健美賽\\n \\n　 \\n    健美在亞洲運動會上是“新生兒”——韓國釜...</td>\n",
       "      <td>體育</td>\n",
       "    </tr>\n",
       "    <tr>\n",
       "      <th>97</th>\n",
       "      <td>\\n各國記者眼中的羽毛球世錦賽\\n \\n\\n-----------------------...</td>\n",
       "      <td>體育</td>\n",
       "    </tr>\n",
       "    <tr>\n",
       "      <th>98</th>\n",
       "      <td>\\n友好運動會第五天 東道主選手大顯神威\\n2001年09月03日02:51:40 新華社 ...</td>\n",
       "      <td>體育</td>\n",
       "    </tr>\n",
       "    <tr>\n",
       "      <th>99</th>\n",
       "      <td>不靠技術比運氣\\n\\n　　第二屆奧運會在巴黎舉行，同時這裡也正在舉行國際博覽會，東道主把一些...</td>\n",
       "      <td>體育</td>\n",
       "    </tr>\n",
       "    <tr>\n",
       "      <th>100</th>\n",
       "      <td>帆 板 運 動 簡 介（二）\\n\\n　　我國在79年由國家體委青島航海運動學校成功試製出第一...</td>\n",
       "      <td>體育</td>\n",
       "    </tr>\n",
       "  </tbody>\n",
       "</table>\n",
       "<p>101 rows × 2 columns</p>\n",
       "</div>"
      ],
      "text/plain": [
       "                                               content target\n",
       "0    日月光華 -- Traffic_Info精華區文章閱讀\\n-----------------...     交通\n",
       "1    日月光華 -- Traffic_Info精華區文章閱讀\\n-----------------...     交通\n",
       "2    日月光華 -- Traffic_Info精華區文章閱讀\\n-----------------...     交通\n",
       "3    三趟火車停開 乘客可全額退票 \\n瀏覽次數：1180 \\n    昨日，來自鐵路部門的消息說...     交通\n",
       "4    日月光華 -- Traffic_Info精華區文章閱讀\\n-----------------...     交通\n",
       "..                                                 ...    ...\n",
       "96   最優秀選手無緣亞運會健美賽\\n \\n　 \\n    健美在亞洲運動會上是“新生兒”——韓國釜...     體育\n",
       "97    \\n各國記者眼中的羽毛球世錦賽\\n \\n\\n-----------------------...     體育\n",
       "98   \\n友好運動會第五天 東道主選手大顯神威\\n2001年09月03日02:51:40 新華社 ...     體育\n",
       "99   不靠技術比運氣\\n\\n　　第二屆奧運會在巴黎舉行，同時這裡也正在舉行國際博覽會，東道主把一些...     體育\n",
       "100  帆 板 運 動 簡 介（二）\\n\\n　　我國在79年由國家體委青島航海運動學校成功試製出第一...     體育\n",
       "\n",
       "[101 rows x 2 columns]"
      ]
     },
     "execution_count": 10,
     "metadata": {},
     "output_type": "execute_result"
    }
   ],
   "source": [
    "fnames = glob.glob(\"chinese_news_test/*/*.[tT][xX][tT]\")\n",
    "datas = {\n",
    "    \"content\":[],\n",
    "    \"target\":[]\n",
    "}\n",
    "for fn in fnames:\n",
    "    with open(fn, \"r\", encoding=\"utf-8\") as f:\n",
    "        content = f.read()\n",
    "    datas[\"content\"].append(content)\n",
    "    dn = os.path.split(fn)[0]\n",
    "    dn = os.path.split(dn)[-1]\n",
    "    datas[\"target\"].append(dn)\n",
    "test_df = pd.DataFrame(datas)\n",
    "test_df"
   ]
  },
  {
   "cell_type": "code",
   "execution_count": 11,
   "metadata": {},
   "outputs": [
    {
     "name": "stdout",
     "output_type": "stream",
     "text": [
      "{'交通': 0, '政治': 1, '教育': 2, '環境': 3, '經濟': 4, '藝術': 5, '計算機': 6, '軍事': 7, '醫藥': 8, '體育': 9}\n",
      "{0: '交通', 1: '政治', 2: '教育', 3: '環境', 4: '經濟', 5: '藝術', 6: '計算機', 7: '軍事', 8: '醫藥', 9: '體育'}\n"
     ]
    },
    {
     "data": {
      "text/plain": [
       "0      0\n",
       "1      0\n",
       "2      0\n",
       "3      0\n",
       "4      0\n",
       "      ..\n",
       "96     9\n",
       "97     9\n",
       "98     9\n",
       "99     9\n",
       "100    9\n",
       "Name: target, Length: 101, dtype: int64"
      ]
     },
     "execution_count": 11,
     "metadata": {},
     "output_type": "execute_result"
    }
   ],
   "source": [
    "u = train_df[\"target\"].unique()\n",
    "trans = {name:i for i, name in enumerate(u)}\n",
    "reverse_trans = {i:name for name, i in trans.items()}\n",
    "print(trans)\n",
    "print(reverse_trans)\n",
    "y_train = train_df[\"target\"].replace(trans)\n",
    "y_test = test_df[\"target\"].replace(trans)\n",
    "y_test"
   ]
  },
  {
   "cell_type": "code",
   "execution_count": 13,
   "metadata": {
    "collapsed": true
   },
   "outputs": [
    {
     "name": "stderr",
     "output_type": "stream",
     "text": [
      "Building prefix dict from C:\\Users\\A30\\PycharmProjects\\MLDemo1\\dict.txt.big ...\n",
      "Loading model from cache C:\\Users\\A30\\AppData\\Local\\Temp\\jieba.uef49d72bbd005e2cef5ffc191e8fa7c8.cache\n"
     ]
    },
    {
     "name": "stdout",
     "output_type": "stream",
     "text": [
      "dict.txt.big 已經存在\n"
     ]
    },
    {
     "name": "stderr",
     "output_type": "stream",
     "text": [
      "Loading model cost 1.434 seconds.\n",
      "Prefix dict has been built succesfully.\n"
     ]
    },
    {
     "data": {
      "text/plain": [
       "0      日月 光華   - -   Traffic _ Info 精華區 文章 閱讀  - - - ...\n",
       "1      日月 光華   - -   Traffic _ Info 精華區 文章 閱讀  - - - ...\n",
       "2      日月 光華   - -   Traffic _ Info 精華區 文章 閱讀  - - - ...\n",
       "3      三趟 火車 停開   乘客 可 全額 退票    瀏覽 次數 ： 1180         ...\n",
       "4      日月 光華   - -   Traffic _ Info 精華區 文章 閱讀  - - - ...\n",
       "                             ...                        \n",
       "96     最 優秀 選手 無緣 亞運會 健美 賽     　            健美 在 亞洲 運...\n",
       "97        各國 記者 眼中 的 羽毛球 世錦賽      - - - - - - - - - -...\n",
       "98      友好 運動會 第五天   東道主 選手 大顯神威  2001 年 09 月 03 日 02...\n",
       "99     不靠 技術 比 運氣   　 　 第二屆 奧運會 在 巴黎 舉行 ， 同時 這裡 也 正在 ...\n",
       "100    帆   板   運   動   簡   介 （ 二 ）   　 　 我國 在 79 年 由 ...\n",
       "Name: content, Length: 101, dtype: object"
      ]
     },
     "execution_count": 13,
     "metadata": {},
     "output_type": "execute_result"
    }
   ],
   "source": [
    "import os\n",
    "import jieba\n",
    "from urllib.request import urlretrieve\n",
    "\n",
    "# 使用大辭典來做分詞\n",
    "BIG_DICT_PATH = \"dict.txt.big\"\n",
    "if not os.path.exists(BIG_DICT_PATH):\n",
    "    print(BIG_DICT_PATH, \"不存在, 幫你下載\")\n",
    "    url = \"https://github.com/fxsjy/jieba/raw/master/extra_dict/dict.txt.big\"\n",
    "    urlretrieve(url, BIG_DICT_PATH)\n",
    "else:\n",
    "    print(BIG_DICT_PATH, \"已經存在\")\n",
    "jieba.set_dictionary(BIG_DICT_PATH)\n",
    "\n",
    "def newscut(s):\n",
    "    s = \" \".join(jieba.cut(s))\n",
    "    s = s.replace(\"\\r\", \"\").replace(\"\\n\", \"\")\n",
    "    return s\n",
    "# pandas表格: DataFrame 一欄或者一列: Series\n",
    "# Series.apply(功能名字)\n",
    "x_train = train_df[\"content\"].apply(newscut)\n",
    "x_test = test_df[\"content\"].apply(newscut)\n",
    "x_test"
   ]
  },
  {
   "cell_type": "code",
   "execution_count": 14,
   "metadata": {},
   "outputs": [],
   "source": [
    "from sklearn.feature_extraction.text import CountVectorizer\n",
    "vec = CountVectorizer()\n",
    "x_train_vec = vec.fit_transform(x_train)\n",
    "x_test_vec = vec.transform(x_test)"
   ]
  },
  {
   "cell_type": "code",
   "execution_count": 15,
   "metadata": {},
   "outputs": [
    {
     "data": {
      "text/plain": [
       "MultinomialNB(alpha=1.0, class_prior=None, fit_prior=True)"
      ]
     },
     "execution_count": 15,
     "metadata": {},
     "output_type": "execute_result"
    }
   ],
   "source": [
    "from sklearn.naive_bayes import MultinomialNB\n",
    "clf = MultinomialNB()\n",
    "clf.fit(x_train_vec, y_train)"
   ]
  },
  {
   "cell_type": "code",
   "execution_count": 16,
   "metadata": {},
   "outputs": [
    {
     "name": "stdout",
     "output_type": "stream",
     "text": [
      "正確率: 1.0\n"
     ]
    }
   ],
   "source": [
    "from sklearn.metrics import accuracy_score\n",
    "pre = clf.predict(x_test_vec)\n",
    "print(\"正確率:\", accuracy_score(pre, y_test))"
   ]
  },
  {
   "cell_type": "code",
   "execution_count": 17,
   "metadata": {
    "collapsed": true
   },
   "outputs": [
    {
     "data": {
      "text/html": [
       "<div>\n",
       "<style scoped>\n",
       "    .dataframe tbody tr th:only-of-type {\n",
       "        vertical-align: middle;\n",
       "    }\n",
       "\n",
       "    .dataframe tbody tr th {\n",
       "        vertical-align: top;\n",
       "    }\n",
       "\n",
       "    .dataframe thead th {\n",
       "        text-align: right;\n",
       "    }\n",
       "</style>\n",
       "<table border=\"1\" class=\"dataframe\">\n",
       "  <thead>\n",
       "    <tr style=\"text-align: right;\">\n",
       "      <th></th>\n",
       "      <th>交通(預測)</th>\n",
       "      <th>政治(預測)</th>\n",
       "      <th>教育(預測)</th>\n",
       "      <th>環境(預測)</th>\n",
       "      <th>經濟(預測)</th>\n",
       "      <th>藝術(預測)</th>\n",
       "      <th>計算機(預測)</th>\n",
       "      <th>軍事(預測)</th>\n",
       "      <th>醫藥(預測)</th>\n",
       "      <th>體育(預測)</th>\n",
       "    </tr>\n",
       "  </thead>\n",
       "  <tbody>\n",
       "    <tr>\n",
       "      <th>交通(原本)</th>\n",
       "      <td>10</td>\n",
       "      <td>0</td>\n",
       "      <td>0</td>\n",
       "      <td>0</td>\n",
       "      <td>0</td>\n",
       "      <td>0</td>\n",
       "      <td>0</td>\n",
       "      <td>0</td>\n",
       "      <td>0</td>\n",
       "      <td>0</td>\n",
       "    </tr>\n",
       "    <tr>\n",
       "      <th>政治(原本)</th>\n",
       "      <td>0</td>\n",
       "      <td>11</td>\n",
       "      <td>0</td>\n",
       "      <td>0</td>\n",
       "      <td>0</td>\n",
       "      <td>0</td>\n",
       "      <td>0</td>\n",
       "      <td>0</td>\n",
       "      <td>0</td>\n",
       "      <td>0</td>\n",
       "    </tr>\n",
       "    <tr>\n",
       "      <th>教育(原本)</th>\n",
       "      <td>0</td>\n",
       "      <td>0</td>\n",
       "      <td>10</td>\n",
       "      <td>0</td>\n",
       "      <td>0</td>\n",
       "      <td>0</td>\n",
       "      <td>0</td>\n",
       "      <td>0</td>\n",
       "      <td>0</td>\n",
       "      <td>0</td>\n",
       "    </tr>\n",
       "    <tr>\n",
       "      <th>環境(原本)</th>\n",
       "      <td>0</td>\n",
       "      <td>0</td>\n",
       "      <td>0</td>\n",
       "      <td>10</td>\n",
       "      <td>0</td>\n",
       "      <td>0</td>\n",
       "      <td>0</td>\n",
       "      <td>0</td>\n",
       "      <td>0</td>\n",
       "      <td>0</td>\n",
       "    </tr>\n",
       "    <tr>\n",
       "      <th>經濟(原本)</th>\n",
       "      <td>0</td>\n",
       "      <td>0</td>\n",
       "      <td>0</td>\n",
       "      <td>0</td>\n",
       "      <td>10</td>\n",
       "      <td>0</td>\n",
       "      <td>0</td>\n",
       "      <td>0</td>\n",
       "      <td>0</td>\n",
       "      <td>0</td>\n",
       "    </tr>\n",
       "    <tr>\n",
       "      <th>藝術(原本)</th>\n",
       "      <td>0</td>\n",
       "      <td>0</td>\n",
       "      <td>0</td>\n",
       "      <td>0</td>\n",
       "      <td>0</td>\n",
       "      <td>10</td>\n",
       "      <td>0</td>\n",
       "      <td>0</td>\n",
       "      <td>0</td>\n",
       "      <td>0</td>\n",
       "    </tr>\n",
       "    <tr>\n",
       "      <th>計算機(原本)</th>\n",
       "      <td>0</td>\n",
       "      <td>0</td>\n",
       "      <td>0</td>\n",
       "      <td>0</td>\n",
       "      <td>0</td>\n",
       "      <td>0</td>\n",
       "      <td>10</td>\n",
       "      <td>0</td>\n",
       "      <td>0</td>\n",
       "      <td>0</td>\n",
       "    </tr>\n",
       "    <tr>\n",
       "      <th>軍事(原本)</th>\n",
       "      <td>0</td>\n",
       "      <td>0</td>\n",
       "      <td>0</td>\n",
       "      <td>0</td>\n",
       "      <td>0</td>\n",
       "      <td>0</td>\n",
       "      <td>0</td>\n",
       "      <td>10</td>\n",
       "      <td>0</td>\n",
       "      <td>0</td>\n",
       "    </tr>\n",
       "    <tr>\n",
       "      <th>醫藥(原本)</th>\n",
       "      <td>0</td>\n",
       "      <td>0</td>\n",
       "      <td>0</td>\n",
       "      <td>0</td>\n",
       "      <td>0</td>\n",
       "      <td>0</td>\n",
       "      <td>0</td>\n",
       "      <td>0</td>\n",
       "      <td>10</td>\n",
       "      <td>0</td>\n",
       "    </tr>\n",
       "    <tr>\n",
       "      <th>體育(原本)</th>\n",
       "      <td>0</td>\n",
       "      <td>0</td>\n",
       "      <td>0</td>\n",
       "      <td>0</td>\n",
       "      <td>0</td>\n",
       "      <td>0</td>\n",
       "      <td>0</td>\n",
       "      <td>0</td>\n",
       "      <td>0</td>\n",
       "      <td>10</td>\n",
       "    </tr>\n",
       "  </tbody>\n",
       "</table>\n",
       "</div>"
      ],
      "text/plain": [
       "         交通(預測)  政治(預測)  教育(預測)  環境(預測)  經濟(預測)  藝術(預測)  計算機(預測)  軍事(預測)  \\\n",
       "交通(原本)       10       0       0       0       0       0        0       0   \n",
       "政治(原本)        0      11       0       0       0       0        0       0   \n",
       "教育(原本)        0       0      10       0       0       0        0       0   \n",
       "環境(原本)        0       0       0      10       0       0        0       0   \n",
       "經濟(原本)        0       0       0       0      10       0        0       0   \n",
       "藝術(原本)        0       0       0       0       0      10        0       0   \n",
       "計算機(原本)       0       0       0       0       0       0       10       0   \n",
       "軍事(原本)        0       0       0       0       0       0        0      10   \n",
       "醫藥(原本)        0       0       0       0       0       0        0       0   \n",
       "體育(原本)        0       0       0       0       0       0        0       0   \n",
       "\n",
       "         醫藥(預測)  體育(預測)  \n",
       "交通(原本)        0       0  \n",
       "政治(原本)        0       0  \n",
       "教育(原本)        0       0  \n",
       "環境(原本)        0       0  \n",
       "經濟(原本)        0       0  \n",
       "藝術(原本)        0       0  \n",
       "計算機(原本)       0       0  \n",
       "軍事(原本)        0       0  \n",
       "醫藥(原本)       10       0  \n",
       "體育(原本)        0      10  "
      ]
     },
     "execution_count": 17,
     "metadata": {},
     "output_type": "execute_result"
    }
   ],
   "source": [
    "from sklearn.metrics import confusion_matrix\n",
    "# \"{}-{}-{}\".format(\"2019\", \"02\", \"03\")\n",
    "mat = confusion_matrix(y_test, pre)\n",
    "c = [\"{}(預測)\".format(name) for name in u]\n",
    "i = [\"{}(原本)\".format(name) for name in u]\n",
    "pd.DataFrame(mat, columns=c, index=i)"
   ]
  },
  {
   "cell_type": "code",
   "execution_count": 36,
   "metadata": {},
   "outputs": [
    {
     "name": "stdout",
     "output_type": "stream",
     "text": [
      "輸入一篇新聞:udn / udn遊戲角落 / 找新聞 / 遊戲新聞  同類好文  ▾ 真的是北歐神話！Ubisoft公布新作《刺客教條：維京紀元》背景舞台 分享 分享 留言 列印 A-A+ 2020-04-30 04:11遊戲角落 玄軒軒   Ubisoft在今（30）日稍早於直播會中公布《刺客教條》新作舞台設定，並將新作命名為《刺客教條：維京紀元（Assassin's Creed Valhalla）》。直播會邀請澳洲當代藝術家Bosslogic（Kode Abdo）創作一幅獨特藝術作品，逐步揭露新作背景設定。  根據先前傳聞的消息以及直播創作內容，不少網友紛紛猜測新作可能將會以「中世紀北歐時代」、「斯堪地那維亞半島」作為背景。歷經八個小時的創作，最終的完成作品果不其然呈現出濃濃維京風格，新作背景也呼之欲出？  澳洲藝術家Bosslogic在直播會中創作藝術作品，逐步揭露《刺客教條》新作舞台... 澳洲藝術家Bosslogic在直播會中創作藝術作品，逐步揭露《刺客教條》新作舞台／圖片截自Youtube 創作近七個小時，整體輪廓已成形。 創作近七個小時，整體輪廓已成形。 驍勇善戰的維京人在中古歐洲歷史中佔有一席之地，他們在後來也被號稱為「北歐海盜」。直播會中尚未公布《刺客教條：維京紀元》的發售日期以及發售平台，粉絲們也頻頻敲碗希望能在「PS5」上推出。  Ubisoft預計在 4 月 30 日 晚間 11 點釋出遊戲預告片，讀者們也可以持續鎖定Youtube頻道，相信屆時將會揭露更多遊戲背景與細節。\n",
      "分類應該是: 藝術\n",
      "藝術 的機率: 100.0 %\n",
      "軍事 的機率: 8.561705243679456e-36 %\n",
      "教育 的機率: 4.2655986969943485e-38 %\n",
      "計算機 的機率: 2.9491669802828504e-39 %\n",
      "經濟 的機率: 1.233282856697983e-41 %\n",
      "環境 的機率: 4.255139745373673e-54 %\n",
      "體育 的機率: 1.1603327872118636e-54 %\n",
      "交通 的機率: 8.928528072562628e-57 %\n",
      "醫藥 的機率: 2.682229968764201e-61 %\n",
      "政治 的機率: 6.52162228233035e-62 %\n"
     ]
    }
   ],
   "source": [
    "# 回顧\n",
    "p = input(\"輸入一篇新聞:\")\n",
    "# 注意[]: [第一首詩, 第二首詩]\n",
    "p = vec.transform([newscut(p)])\n",
    "# 注意: [第一個答案, 第二個答案]\n",
    "ans = clf.predict(p)[0]\n",
    "print(\"分類應該是:\", reverse_trans[ans])\n",
    "proba = clf.predict_proba(p)[0]\n",
    "for n, prob in sorted(zip(u, proba), key=lambda x:x[1], reverse=True):\n",
    "    print(n, \"的機率:\", prob * 100, \"%\")"
   ]
  },
  {
   "cell_type": "code",
   "execution_count": 28,
   "metadata": {},
   "outputs": [
    {
     "data": {
      "text/plain": [
       "[('經濟', 0.9999885005797282),\n",
       " ('軍事', 1.1499419846061542e-05),\n",
       " ('計算機', 3.746184998538567e-13),\n",
       " ('政治', 8.180773611683528e-20),\n",
       " ('教育', 8.329839116876556e-32),\n",
       " ('環境', 2.7491016421908615e-36),\n",
       " ('體育', 6.528781045824999e-47),\n",
       " ('醫藥', 1.496527546356483e-48),\n",
       " ('交通', 9.069957731017085e-50),\n",
       " ('藝術', 6.386957244176616e-50)]"
      ]
     },
     "execution_count": 28,
     "metadata": {},
     "output_type": "execute_result"
    }
   ],
   "source": [
    "# 本來應該def, 直接用lambda\n",
    "def s(x):\n",
    "    return x[1]\n",
    "sorted(zip(u, proba), key=lambda x:x[1], reverse=True)"
   ]
  },
  {
   "cell_type": "code",
   "execution_count": null,
   "metadata": {},
   "outputs": [],
   "source": []
  }
 ],
 "metadata": {
  "kernelspec": {
   "display_name": "Python 3",
   "language": "python",
   "name": "python3"
  },
  "language_info": {
   "codemirror_mode": {
    "name": "ipython",
    "version": 3
   },
   "file_extension": ".py",
   "mimetype": "text/x-python",
   "name": "python",
   "nbconvert_exporter": "python",
   "pygments_lexer": "ipython3",
   "version": "3.7.6"
  }
 },
 "nbformat": 4,
 "nbformat_minor": 4
}
